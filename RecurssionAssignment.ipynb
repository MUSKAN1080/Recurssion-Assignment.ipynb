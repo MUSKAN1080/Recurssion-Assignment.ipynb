{
 "cells": [
  {
   "cell_type": "code",
   "execution_count": null,
   "metadata": {},
   "outputs": [],
   "source": [
    "#Question 1  Can you explain the logic and working of the Tower of Hanoi algorithm by writing a Java program?\n",
    "#            How does the recursion work, and how are the movements of disks between rods accomplished?\n",
    "\n",
    "#Answer\n",
    "\n",
    "# The Tower of Hanoi is a classic problem in computer science and mathematics that involves moving disks from one rod\n",
    "#  to another with the help of an auxiliary rod, following these rules:\n",
    "\n",
    "#You can only move one disk at a time.\n",
    "#A disk can only be placed on top of a larger disk or on an empty rod.\n",
    "\n",
    "# JAVA PROGRAM\n",
    "public class TowerOfHanoi {\n",
    "\n",
    "    \n",
    "    public static void solveTowerOfHanoi(int n, char fromRod, char toRod, char auxRod) {\n",
    "        \n",
    "        if (n == 1) {\n",
    "            System.out.println(\"Move disk 1 from rod \" + fromRod + \" to rod \" + toRod);\n",
    "            return;\n",
    "        }\n",
    "        solveTowerOfHanoi(n - 1, fromRod, auxRod, toRod);\n",
    "        System.out.println(\"Move disk \" + n + \" from rod \" + fromRod + \" to rod \" + toRod);\n",
    "\n",
    "        solveTowerOfHanoi(n - 1, auxRod, toRod, fromRod);\n",
    "    }\n",
    "    public static void main(String[] args) {\n",
    "        int n = 3;\n",
    "        solveTowerOfHanoi(n, 'A', 'C', 'B'); // 'A' is source rod, 'C' is destination rod, 'B' is auxiliary rod\n",
    "    }\n",
    "}\n",
    "#"
   ]
  },
  {
   "cell_type": "markdown",
   "metadata": {},
   "source": [
    "Q2 Given two strings word1 and word2, return the minimum number of operations required to convert word1\n",
    "   to word2."
   ]
  },
  {
   "cell_type": "code",
   "execution_count": 1,
   "metadata": {},
   "outputs": [
    {
     "name": "stdout",
     "output_type": "stream",
     "text": [
      "3\n"
     ]
    }
   ],
   "source": [
    "def minDistance(word1: str, word2: str) -> int:\n",
    "    m, n = len(word1), len(word2)\n",
    "    \n",
    "    \n",
    "    dp = [[0] * (n + 1) for _ in range(m + 1)]\n",
    "    \n",
    "    \n",
    "    for i in range(m + 1):\n",
    "        dp[i][0] = i  \n",
    "    for j in range(n + 1):\n",
    "        dp[0][j] = j  \n",
    "    \n",
    "    \n",
    "    for i in range(1, m + 1):\n",
    "        for j in range(1, n + 1):\n",
    "            if word1[i - 1] == word2[j - 1]:\n",
    "                dp[i][j] = dp[i - 1][j - 1]\n",
    "            else:\n",
    "                dp[i][j] = min(dp[i - 1][j] + 1,    \n",
    "                               dp[i][j - 1] + 1,   \n",
    "                               dp[i - 1][j - 1] + 1)  \n",
    "    \n",
    "    \n",
    "    return dp[m][n]\n",
    "\n",
    "\n",
    "word1 = \"horse\"\n",
    "word2 = \"ros\"\n",
    "print(minDistance(word1, word2))  # Output: 3\n"
   ]
  },
  {
   "cell_type": "markdown",
   "metadata": {},
   "source": [
    "Q3 Print the max value of the array [ 13, 1, -3, 22, 5]."
   ]
  },
  {
   "cell_type": "code",
   "execution_count": 2,
   "metadata": {},
   "outputs": [
    {
     "name": "stdout",
     "output_type": "stream",
     "text": [
      "The maximum value in the array is: 22\n"
     ]
    }
   ],
   "source": [
    "\n",
    "array = [13, 1, -3, 22, 5]\n",
    "max_value = array[0]\n",
    "\n",
    "for num in array:\n",
    "    if num > max_value:\n",
    "        max_value = num\n",
    "\n",
    "print(\"The maximum value in the array is:\", max_value)\n"
   ]
  },
  {
   "cell_type": "markdown",
   "metadata": {},
   "source": [
    "Q4  Find the sum of the values of the array [92, 23, 15, -20, 10]."
   ]
  },
  {
   "cell_type": "code",
   "execution_count": 3,
   "metadata": {},
   "outputs": [
    {
     "name": "stdout",
     "output_type": "stream",
     "text": [
      "The sum of the array is: 120\n"
     ]
    }
   ],
   "source": [
    "\n",
    "array = [92, 23, 15, -20, 10]\n",
    "total_sum = sum(array)\n",
    "\n",
    "print(\"The sum of the array is:\", total_sum)\n"
   ]
  },
  {
   "cell_type": "markdown",
   "metadata": {},
   "source": [
    "Q5. Given a number n. Print if it is an armstrong number or not.An armstrong number is a number if the sum\n",
    "of every digit in that number raised to the power of total digits in that number is equal to the number."
   ]
  },
  {
   "cell_type": "code",
   "execution_count": 4,
   "metadata": {},
   "outputs": [
    {
     "name": "stdout",
     "output_type": "stream",
     "text": [
      "153 is an Armstrong number.\n"
     ]
    }
   ],
   "source": [
    "def is_armstrong_number(n):\n",
    "    str_n = str(n)\n",
    "    num_digits = len(str_n)  \n",
    "    \n",
    "    sum_of_powers = sum(int(digit) ** num_digits for digit in str_n)\n",
    "    return sum_of_powers == n\n",
    "\n",
    "n = int(input(\"Enter a number: \"))\n",
    "\n",
    "if is_armstrong_number(n):\n",
    "    print(f\"{n} is an Armstrong number.\")\n",
    "else:\n",
    "    print(f\"{n} is not an Armstrong number.\")\n"
   ]
  }
 ],
 "metadata": {
  "kernelspec": {
   "display_name": "Python 3",
   "language": "python",
   "name": "python3"
  },
  "language_info": {
   "codemirror_mode": {
    "name": "ipython",
    "version": 3
   },
   "file_extension": ".py",
   "mimetype": "text/x-python",
   "name": "python",
   "nbconvert_exporter": "python",
   "pygments_lexer": "ipython3",
   "version": "3.11.5"
  }
 },
 "nbformat": 4,
 "nbformat_minor": 2
}
